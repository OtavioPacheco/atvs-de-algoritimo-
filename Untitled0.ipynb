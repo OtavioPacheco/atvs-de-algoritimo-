{
  "nbformat": 4,
  "nbformat_minor": 0,
  "metadata": {
    "colab": {
      "provenance": [],
      "authorship_tag": "ABX9TyPLxQpoj0BZhSkF4fhbbwc6",
      "include_colab_link": true
    },
    "kernelspec": {
      "name": "python3",
      "display_name": "Python 3"
    },
    "language_info": {
      "name": "python"
    }
  },
  "cells": [
    {
      "cell_type": "markdown",
      "metadata": {
        "id": "view-in-github",
        "colab_type": "text"
      },
      "source": [
        "<a href=\"https://colab.research.google.com/github/siegBytes/atvs-de-algoritimo-/blob/main/Untitled0.ipynb\" target=\"_parent\"><img src=\"https://colab.research.google.com/assets/colab-badge.svg\" alt=\"Open In Colab\"/></a>"
      ]
    },
    {
      "cell_type": "code",
      "execution_count": null,
      "metadata": {
        "id": "gGD0RUgDO3zt"
      },
      "outputs": [],
      "source": []
    },
    {
      "cell_type": "markdown",
      "source": [
        "Exercicios aula 1/2"
      ],
      "metadata": {
        "id": "aRa3_7NQO7l8"
      }
    },
    {
      "cell_type": "code",
      "source": [
        "#Exercicio 1\n",
        "nome = input(\"digite seu nome:\")\n",
        "salario = float(input(\"digite seu salario:\"))\n",
        "print(f\"seu nome é: {nome}, e seu salrio é de {salario}\")\n",
        "\n",
        "\n",
        "#exercicio 2\n",
        "\n",
        "nota1 = float(input(\"digite sua nota:\"))\n",
        "nota2 = float(input(\"digite sa outra nota\"))\n",
        "media = (nota1 + nota2) / 2\n",
        "print(media)\n",
        "\n",
        "#exercicio 3\n",
        "\n",
        "num_real = float(input(\"digi[te um numero real\"))\n",
        "dobro = num_real * 2\n",
        "terca_parte = num_real/3\n",
        "print(f\"seu numero foi {num_real},  o dobro é {dobro}, e sua terça parte é {terca_parte}\")\n",
        "\n",
        "#exercicio 4\n",
        "\n",
        "a = 2.5 * 5\n",
        "print(a)\n",
        "\n",
        "#exercicio 5\n",
        "import math\n",
        "lado = float(input(\"digite a medida do lado de um quadrado\"))\n",
        "#area = lado * lado\n",
        "area = math.pow(lado, 2)\n",
        "print(f\"a area do quadrado é {area}\")\n",
        "\n",
        "#exercicio 6\n",
        "\n",
        "area_triangulo = (5 * 10)/2\n",
        "\n",
        "#exercicio 7\n",
        "\n",
        "area_circulo = 3.14 * 10**2\n",
        "\n",
        "#exercicio 8\n",
        "\n",
        "altura_parede = float(input(\"digite a altura da parede\"))\n",
        "largura_parede = float(input(\"digite a largura da parede: \"))\n",
        "\n",
        "area_parede = largura_parede * altura_parede\n",
        "litro_tinta = area_parede / 2\n",
        "print(f\"a area da parede é {area_parede} e o total de litros de tinta deve ser {litro_tinta}\")\n",
        "\n",
        "#exercicio 9\n",
        "\n",
        "imc = 100/(1.80 **2)\n",
        "print(imc)\n",
        "\n",
        "#execicio 10\n",
        "\n",
        "a = int(input(\"digite um numero \"))\n",
        "b = int(input(\"digite outro numero\"))\n",
        "\n",
        "if a % b == 0:\n",
        "    print(\"é multiplo \")\n",
        "else:\n",
        "    print (\"não é multiplo\")\n",
        "\n",
        "#exercicio 11\n",
        "\n",
        "valor_produto = float(input(\"digite o valor do produto: \"))\n",
        "desconto = valor_produto / 10\n",
        "valor_final = valor_produto - desconto\n",
        "print(f\"o valor final é: {valor_final}\")\n",
        "\n",
        "#exercicio 12\n",
        "\n",
        "salario = float(input(\"digite seu salario atual:\"))\n",
        "aumento_salario = salario + (salario * 0.15)\n",
        "print(aumento_salario)\n",
        "\n",
        "#exercicio 13\n",
        "\n",
        "velocidade = int(input(\"digite a sua velocidade media: \"))\n",
        "distancia = float(input(\"digite a distacia a ser percorrida: \"))\n",
        "tempo_viagem = velocidade/distancia\n",
        "print(tempo_viagem)\n",
        "\n",
        "#exercicio 14\n",
        "\n",
        "kwh = float(input(\"digite a qtd de kwh a ser consumida\"))\n",
        "valor_kwh = float(input(\"digite o valor do kwh: \"))\n",
        "qtd_pagar = kwh / valor_kwh\n",
        "print(qtd_pagar)\n",
        "\n",
        "#exercicio 15\n",
        "\n",
        "valor_reais = float(input(\"digite o valor em reais: \"))\n",
        "valor_dolar = valor_reais * 5\n",
        "print(valor_dolar)\n",
        "\n",
        "#execicio 16\n",
        "\n",
        "dias_trabalhados = int(input(\"digite o numero de dias que voce trabalhou no mes: \"))\n",
        "calculo_salario = (dias_trabalhados * 8) * 25\n",
        "\n",
        "#exercicio 17\n",
        "\n",
        "aluguel_dias = int(input(\"digite o numero de dias que voce manteve o carro: \"))\n",
        "aluguel_km = float(input(\"digite a qtde de kms que voce andou com o carro: \"))\n",
        "km_valor = aluguel_km * 0.20\n",
        "dia_valor = aluguel_dias * 90\n",
        "\n",
        "#exercicio 18\n"
      ],
      "metadata": {
        "id": "OSxUjlIDPACP"
      },
      "execution_count": null,
      "outputs": []
    }
  ]
}