{
  "nbformat": 4,
  "nbformat_minor": 0,
  "metadata": {
    "colab": {
      "provenance": [],
      "authorship_tag": "ABX9TyM9BRp7oX5BaqxeOfpHNvP3",
      "include_colab_link": true
    },
    "kernelspec": {
      "name": "python3",
      "display_name": "Python 3"
    },
    "language_info": {
      "name": "python"
    }
  },
  "cells": [
    {
      "cell_type": "markdown",
      "metadata": {
        "id": "view-in-github",
        "colab_type": "text"
      },
      "source": [
        "<a href=\"https://colab.research.google.com/github/siegBytes/atvs-de-algoritimo-/blob/main/aula1_programacao.ipynb\" target=\"_parent\"><img src=\"https://colab.research.google.com/assets/colab-badge.svg\" alt=\"Open In Colab\"/></a>"
      ]
    },
    {
      "cell_type": "code",
      "execution_count": null,
      "metadata": {
        "id": "j8qKW6UK9C8v"
      },
      "outputs": [],
      "source": []
    },
    {
      "cell_type": "markdown",
      "source": [
        "**Hello world para a oferenda aos deuses do programa**"
      ],
      "metadata": {
        "id": "lBCZlbyc_Q_u"
      }
    },
    {
      "cell_type": "code",
      "source": [
        "print(\"Hello world\")"
      ],
      "metadata": {
        "colab": {
          "base_uri": "https://localhost:8080/"
        },
        "id": "U_VioSbg-LV5",
        "outputId": "c9dbd645-b8f9-4fbd-9414-8b0c9178f8dc"
      },
      "execution_count": null,
      "outputs": [
        {
          "output_type": "stream",
          "name": "stdout",
          "text": [
            "Hello world\n"
          ]
        }
      ]
    },
    {
      "cell_type": "code",
      "source": [
        "print(\"teste para o print\")"
      ],
      "metadata": {
        "id": "G9dvxam5_d5F",
        "colab": {
          "base_uri": "https://localhost:8080/"
        },
        "outputId": "baee841a-0dae-43c6-e2ce-bcc93b195894"
      },
      "execution_count": null,
      "outputs": [
        {
          "output_type": "stream",
          "name": "stdout",
          "text": [
            "teste para o print\n"
          ]
        }
      ]
    },
    {
      "cell_type": "markdown",
      "source": [
        "Tipos de dados\n",
        "\n",
        "type()"
      ],
      "metadata": {
        "id": "Nd74EBjv_1DV"
      }
    },
    {
      "cell_type": "code",
      "source": [
        "num = 0\n",
        "\n",
        "print(type(num), \":\", num, \" \", \"num\")\n",
        "\n",
        "print(4/2)\n",
        "print(2/4)\n",
        "num2 = 2\n",
        "num3 = 4\n",
        "print(type(num2/num3))#teste para saber o tipo de váriavel\n",
        "# toda divisao feita em py vai resultar em float"
      ],
      "metadata": {
        "colab": {
          "base_uri": "https://localhost:8080/"
        },
        "id": "LFmkSYMhABFb",
        "outputId": "0e234c7d-5aee-4662-8525-95a7ffc661a7"
      },
      "execution_count": null,
      "outputs": [
        {
          "output_type": "stream",
          "name": "stdout",
          "text": [
            "<class 'int'> : 0   num\n",
            "2.0\n",
            "0.5\n",
            "<class 'float'>\n"
          ]
        }
      ]
    },
    {
      "cell_type": "markdown",
      "source": [
        "**entrada de dados**"
      ],
      "metadata": {
        "id": "U52pQ_4HIiSG"
      }
    },
    {
      "cell_type": "code",
      "source": [
        "num1 = input(\"digite um número. ;_;\")\n",
        "print(\"o número que voce digitou é:\", num1)\n",
        "\n",
        "#teste\n",
        "\n",
        "import random\n",
        "randomizado = random.randint(1, 10)\n",
        "print(\"o numero é :\", randomizado)\n",
        "num2 = int(input(\"tente adivinhar um número de 1 a 10\"))\n",
        "\n",
        "if num2 == randomizado:\n",
        "  print(\"voce acertou!!!\")\n",
        "else:\n",
        "  print(\"ERROU\")\n",
        "\n",
        "#Formatar String\n",
        "\n",
        "print(f\"teste para tentar formatar uma string, esse é o número que voce digitou anteriomente {num1}\")"
      ],
      "metadata": {
        "colab": {
          "base_uri": "https://localhost:8080/"
        },
        "id": "QIZMUFFAIoQE",
        "outputId": "8a3b7fca-0c94-4eeb-eed3-0058d063a4dd"
      },
      "execution_count": null,
      "outputs": [
        {
          "output_type": "stream",
          "name": "stdout",
          "text": [
            "digite um número. ;_;6\n",
            "o número que voce digitou é: 6\n",
            "o numero é : 3\n",
            "tente adivinhar um número de 1 a 102\n",
            "ERROU\n",
            "teste para tentar formatar uma string, esse é o número que voce digitou anteriomente 6\n"
          ]
        }
      ]
    },
    {
      "cell_type": "code",
      "source": [
        "#formatar saida de casas decimais:\n",
        "\n",
        "num1 = 5.37298732874891729083461297\n",
        "num2 = 2.50933796427846\n",
        "print(f\"{num1:.5}\")\n",
        "print(f\"{num1/num2:.2}\")\n",
        "print(f\"{num1/num2}\")"
      ],
      "metadata": {
        "colab": {
          "base_uri": "https://localhost:8080/"
        },
        "id": "tlEA87R-LroD",
        "outputId": "3af38a40-f5dd-40d8-a3fe-3a10e3222117"
      },
      "execution_count": null,
      "outputs": [
        {
          "output_type": "stream",
          "name": "stdout",
          "text": [
            "5.373\n",
            "2.1\n",
            "2.141197162453116\n"
          ]
        }
      ]
    }
  ]
}